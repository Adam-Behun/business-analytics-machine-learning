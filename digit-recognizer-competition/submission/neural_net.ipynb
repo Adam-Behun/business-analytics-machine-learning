{
 "cells": [
  {
   "attachments": {},
   "cell_type": "markdown",
   "metadata": {},
   "source": [
    "This approach uses deep learning techniques implemented using tensorflow and keras\n",
    "Official Kaggle score = 0.99"
   ]
  },
  {
   "cell_type": "code",
   "execution_count": 1,
   "metadata": {},
   "outputs": [
    {
     "name": "stderr",
     "output_type": "stream",
     "text": [
      "2023-04-14 14:40:30.698226: I tensorflow/core/util/port.cc:110] oneDNN custom operations are on. You may see slightly different numerical results due to floating-point round-off errors from different computation orders. To turn them off, set the environment variable `TF_ENABLE_ONEDNN_OPTS=0`.\n",
      "2023-04-14 14:40:30.761591: I tensorflow/tsl/cuda/cudart_stub.cc:28] Could not find cuda drivers on your machine, GPU will not be used.\n",
      "2023-04-14 14:40:31.044023: I tensorflow/tsl/cuda/cudart_stub.cc:28] Could not find cuda drivers on your machine, GPU will not be used.\n",
      "2023-04-14 14:40:31.046122: I tensorflow/core/platform/cpu_feature_guard.cc:182] This TensorFlow binary is optimized to use available CPU instructions in performance-critical operations.\n",
      "To enable the following instructions: AVX2 AVX512F AVX512_VNNI FMA, in other operations, rebuild TensorFlow with the appropriate compiler flags.\n",
      "2023-04-14 14:40:32.518506: W tensorflow/compiler/tf2tensorrt/utils/py_utils.cc:38] TF-TRT Warning: Could not find TensorRT\n"
     ]
    }
   ],
   "source": [
    "import numpy as np\n",
    "import pandas as pd\n",
    "import matplotlib.pyplot as plt\n",
    "%matplotlib inline\n",
    "import seaborn as sns\n",
    "import tensorflow as tf"
   ]
  },
  {
   "cell_type": "code",
   "execution_count": 2,
   "metadata": {},
   "outputs": [],
   "source": [
    "train = pd.read_csv(\"../data/train.csv\")\n",
    "test = pd.read_csv(\"../data/test.csv\")"
   ]
  },
  {
   "cell_type": "code",
   "execution_count": 3,
   "metadata": {},
   "outputs": [
    {
     "data": {
      "text/plain": [
       "((42000, 784), (42000,), (28000, 784))"
      ]
     },
     "execution_count": 3,
     "metadata": {},
     "output_type": "execute_result"
    }
   ],
   "source": [
    "y_train = train['label'].astype('float32')\n",
    "X_train = train.drop(['label'], axis=1).astype('int32')\n",
    "X_test = test.astype('float32')\n",
    "X_train.shape, y_train.shape, X_test.shape"
   ]
  },
  {
   "cell_type": "code",
   "execution_count": 4,
   "metadata": {},
   "outputs": [],
   "source": [
    "# Data normalization\n",
    "X_train = X_train/255\n",
    "X_test = X_test/255"
   ]
  },
  {
   "cell_type": "code",
   "execution_count": 5,
   "metadata": {},
   "outputs": [
    {
     "data": {
      "text/plain": [
       "((42000, 28, 28, 1), (28000, 28, 28, 1))"
      ]
     },
     "execution_count": 5,
     "metadata": {},
     "output_type": "execute_result"
    }
   ],
   "source": [
    "X_train = X_train.values.reshape(-1,28,28,1)\n",
    "X_test = X_test.values.reshape(-1,28,28,1)\n",
    "X_train.shape, X_test.shape"
   ]
  },
  {
   "cell_type": "code",
   "execution_count": 6,
   "metadata": {},
   "outputs": [
    {
     "data": {
      "text/plain": [
       "(42000, 10)"
      ]
     },
     "execution_count": 6,
     "metadata": {},
     "output_type": "execute_result"
    }
   ],
   "source": [
    "# one-hot encoding\n",
    "from keras.utils.np_utils import to_categorical\n",
    "y_train = to_categorical(y_train, num_classes = 10)\n",
    "y_train.shape"
   ]
  },
  {
   "cell_type": "code",
   "execution_count": 7,
   "metadata": {},
   "outputs": [
    {
     "name": "stdout",
     "output_type": "stream",
     "text": [
      "0    1\n",
      "1    0\n",
      "2    1\n",
      "3    4\n",
      "4    0\n",
      "Name: label, dtype: int64\n"
     ]
    },
    {
     "data": {
      "text/plain": [
       "array([[0., 1., 0., 0., 0., 0., 0., 0., 0., 0.],\n",
       "       [1., 0., 0., 0., 0., 0., 0., 0., 0., 0.],\n",
       "       [0., 1., 0., 0., 0., 0., 0., 0., 0., 0.],\n",
       "       [0., 0., 0., 0., 1., 0., 0., 0., 0., 0.],\n",
       "       [1., 0., 0., 0., 0., 0., 0., 0., 0., 0.]], dtype=float32)"
      ]
     },
     "execution_count": 7,
     "metadata": {},
     "output_type": "execute_result"
    }
   ],
   "source": [
    "print(train['label'].head())\n",
    "y_train[0:5,:]"
   ]
  },
  {
   "cell_type": "code",
   "execution_count": 8,
   "metadata": {},
   "outputs": [],
   "source": [
    "from sklearn.model_selection import train_test_split\n",
    "X_train, X_cv, y_train, y_cv = train_test_split(X_train, y_train, test_size = 0.1, random_state=42)"
   ]
  },
  {
   "cell_type": "code",
   "execution_count": 9,
   "metadata": {},
   "outputs": [
    {
     "data": {
      "text/plain": [
       "Text(0.5, 1.0, '5')"
      ]
     },
     "execution_count": 9,
     "metadata": {},
     "output_type": "execute_result"
    },
    {
     "data": {
      "image/png": "[encoded data removed]",
      "text/plain": [
       "<Figure size 640x480 with 1 Axes>"
      ]
     },
     "metadata": {},
     "output_type": "display_data"
    }
   ],
   "source": [
    "plt.imshow(X_train[1][:,:,0])\n",
    "plt.title(y_train[1].argmax())"
   ]
  },
  {
   "cell_type": "code",
   "execution_count": 10,
   "metadata": {},
   "outputs": [],
   "source": [
    "from keras.layers import Input,InputLayer, Dense, Activation, ZeroPadding2D, BatchNormalization, Flatten, Conv2D\n",
    "from keras.layers import AveragePooling2D, MaxPooling2D, Dropout\n",
    "from keras.models import Sequential,Model\n",
    "from keras.optimizers import SGD\n",
    "from keras.callbacks import ModelCheckpoint,LearningRateScheduler\n",
    "import keras\n",
    "from keras import backend as K"
   ]
  },
  {
   "cell_type": "code",
   "execution_count": 11,
   "metadata": {},
   "outputs": [
    {
     "name": "stdout",
     "output_type": "stream",
     "text": [
      "Model: \"Predict\"\n",
      "_________________________________________________________________\n",
      " Layer (type)                Output Shape              Param #   \n",
      "=================================================================\n",
      " input_1 (InputLayer)        [(None, 28, 28, 1)]       0         \n",
      "                                                                 \n",
      " layer_conv1 (Conv2D)        (None, 28, 28, 64)        640       \n",
      "                                                                 \n",
      " batch_normalization (BatchN  (None, 28, 28, 64)       256       \n",
      " ormalization)                                                   \n",
      "                                                                 \n",
      " activation (Activation)     (None, 28, 28, 64)        0         \n",
      "                                                                 \n",
      " maxPool1 (MaxPooling2D)     (None, 14, 14, 64)        0         \n",
      "                                                                 \n",
      " layer_conv2 (Conv2D)        (None, 14, 14, 32)        18464     \n",
      "                                                                 \n",
      " batch_normalization_1 (Batc  (None, 14, 14, 32)       128       \n",
      " hNormalization)                                                 \n",
      "                                                                 \n",
      " activation_1 (Activation)   (None, 14, 14, 32)        0         \n",
      "                                                                 \n",
      " maxPool2 (MaxPooling2D)     (None, 7, 7, 32)          0         \n",
      "                                                                 \n",
      " conv3 (Conv2D)              (None, 7, 7, 32)          9248      \n",
      "                                                                 \n",
      " batch_normalization_2 (Batc  (None, 7, 7, 32)         128       \n",
      " hNormalization)                                                 \n",
      "                                                                 \n",
      " activation_2 (Activation)   (None, 7, 7, 32)          0         \n",
      "                                                                 \n",
      " maxPool3 (MaxPooling2D)     (None, 3, 3, 32)          0         \n",
      "                                                                 \n",
      " flatten (Flatten)           (None, 288)               0         \n",
      "                                                                 \n",
      " fc0 (Dense)                 (None, 64)                18496     \n",
      "                                                                 \n",
      " dropout (Dropout)           (None, 64)                0         \n",
      "                                                                 \n",
      " fc1 (Dense)                 (None, 32)                2080      \n",
      "                                                                 \n",
      " dropout_1 (Dropout)         (None, 32)                0         \n",
      "                                                                 \n",
      " fc2 (Dense)                 (None, 10)                330       \n",
      "                                                                 \n",
      "=================================================================\n",
      "Total params: 49,770\n",
      "Trainable params: 49,514\n",
      "Non-trainable params: 256\n",
      "_________________________________________________________________\n"
     ]
    }
   ],
   "source": [
    "# Building a CNN model\n",
    "input_shape = (28,28,1)\n",
    "X_input = Input(input_shape)\n",
    "\n",
    "# layer 1\n",
    "x = Conv2D(64,(3,3),strides=(1,1),name='layer_conv1',padding='same')(X_input)\n",
    "x = BatchNormalization()(x)\n",
    "x = Activation('relu')(x)\n",
    "x = MaxPooling2D((2,2),name='maxPool1')(x)\n",
    "# layer 2\n",
    "x = Conv2D(32,(3,3),strides=(1,1),name='layer_conv2',padding='same')(x)\n",
    "x = BatchNormalization()(x)\n",
    "x = Activation('relu')(x)\n",
    "x = MaxPooling2D((2,2),name='maxPool2')(x)\n",
    "# layer 3\n",
    "x = Conv2D(32,(3,3),strides=(1,1),name='conv3',padding='same')(x)\n",
    "x = BatchNormalization()(x)\n",
    "x = Activation('relu')(x)\n",
    "x = MaxPooling2D((2,2), name='maxPool3')(x)\n",
    "# fc\n",
    "x = Flatten()(x)\n",
    "x = Dense(64,activation ='relu',name='fc0')(x)\n",
    "x = Dropout(0.25)(x)\n",
    "x = Dense(32,activation ='relu',name='fc1')(x)\n",
    "x = Dropout(0.25)(x)\n",
    "x = Dense(10,activation ='softmax',name='fc2')(x)\n",
    "\n",
    "conv_model = Model(inputs=X_input, outputs=x, name='Predict')\n",
    "conv_model.summary()"
   ]
  },
  {
   "cell_type": "code",
   "execution_count": 12,
   "metadata": {},
   "outputs": [
    {
     "name": "stdout",
     "output_type": "stream",
     "text": [
      "Epoch 1/10\n",
      "378/378 [==============================] - 13s 32ms/step - loss: 0.5532 - accuracy: 0.8204 - val_loss: 0.4863 - val_accuracy: 0.9157\n",
      "Epoch 2/10\n",
      "378/378 [==============================] - 13s 35ms/step - loss: 0.1430 - accuracy: 0.9596 - val_loss: 0.0752 - val_accuracy: 0.9798\n",
      "Epoch 3/10\n",
      "378/378 [==============================] - 12s 33ms/step - loss: 0.1009 - accuracy: 0.9723 - val_loss: 0.0541 - val_accuracy: 0.9833\n",
      "Epoch 4/10\n",
      "378/378 [==============================] - 13s 34ms/step - loss: 0.0806 - accuracy: 0.9786 - val_loss: 0.0575 - val_accuracy: 0.9862\n",
      "Epoch 5/10\n",
      "378/378 [==============================] - 13s 34ms/step - loss: 0.0689 - accuracy: 0.9812 - val_loss: 0.0556 - val_accuracy: 0.9855\n",
      "Epoch 6/10\n",
      "378/378 [==============================] - 14s 37ms/step - loss: 0.0590 - accuracy: 0.9844 - val_loss: 0.0470 - val_accuracy: 0.9893\n",
      "Epoch 7/10\n",
      "378/378 [==============================] - 13s 35ms/step - loss: 0.0510 - accuracy: 0.9859 - val_loss: 0.1101 - val_accuracy: 0.9724\n",
      "Epoch 8/10\n",
      "378/378 [==============================] - 12s 33ms/step - loss: 0.0445 - accuracy: 0.9880 - val_loss: 0.0714 - val_accuracy: 0.9829\n",
      "Epoch 9/10\n",
      "378/378 [==============================] - 13s 35ms/step - loss: 0.0425 - accuracy: 0.9887 - val_loss: 0.0406 - val_accuracy: 0.9883\n",
      "Epoch 10/10\n",
      "378/378 [==============================] - 13s 35ms/step - loss: 0.0423 - accuracy: 0.9886 - val_loss: 0.0507 - val_accuracy: 0.9871\n"
     ]
    },
    {
     "data": {
      "text/plain": [
       "<keras.callbacks.History at 0x7fbc0e912560>"
      ]
     },
     "execution_count": 12,
     "metadata": {},
     "output_type": "execute_result"
    }
   ],
   "source": [
    "# Adam optimizer\n",
    "conv_model.compile(optimizer='adam',loss='categorical_crossentropy',metrics=['accuracy'])\n",
    "conv_model.fit(X_train, y_train, epochs=10, batch_size=100, validation_data=(X_cv,y_cv))"
   ]
  },
  {
   "cell_type": "code",
   "execution_count": 13,
   "metadata": {},
   "outputs": [
    {
     "name": "stdout",
     "output_type": "stream",
     "text": [
      "Epoch 1/30\n"
     ]
    },
    {
     "name": "stderr",
     "output_type": "stream",
     "text": [
      "/home/adambehun/.local/lib/python3.10/site-packages/keras/optimizers/legacy/gradient_descent.py:114: UserWarning: The `lr` argument is deprecated, use `learning_rate` instead.\n",
      "  super().__init__(name, **kwargs)\n"
     ]
    },
    {
     "name": "stdout",
     "output_type": "stream",
     "text": [
      "1182/1182 [==============================] - 19s 16ms/step - loss: 0.0286 - accuracy: 0.9917 - val_loss: 0.0383 - val_accuracy: 0.9907\n",
      "Epoch 2/30\n",
      "1182/1182 [==============================] - 18s 16ms/step - loss: 0.0251 - accuracy: 0.9928 - val_loss: 0.0376 - val_accuracy: 0.9902\n",
      "Epoch 3/30\n",
      "1182/1182 [==============================] - 17s 14ms/step - loss: 0.0257 - accuracy: 0.9928 - val_loss: 0.0375 - val_accuracy: 0.9907\n",
      "Epoch 4/30\n",
      "1182/1182 [==============================] - 17s 15ms/step - loss: 0.0246 - accuracy: 0.9935 - val_loss: 0.0373 - val_accuracy: 0.9902\n",
      "Epoch 5/30\n",
      "1182/1182 [==============================] - 17s 15ms/step - loss: 0.0227 - accuracy: 0.9940 - val_loss: 0.0372 - val_accuracy: 0.9905\n",
      "Epoch 6/30\n",
      "1182/1182 [==============================] - 17s 15ms/step - loss: 0.0201 - accuracy: 0.9948 - val_loss: 0.0375 - val_accuracy: 0.9907\n",
      "Epoch 7/30\n",
      "1182/1182 [==============================] - 17s 15ms/step - loss: 0.0203 - accuracy: 0.9949 - val_loss: 0.0372 - val_accuracy: 0.9905\n",
      "Epoch 8/30\n",
      "1182/1182 [==============================] - 18s 15ms/step - loss: 0.0206 - accuracy: 0.9945 - val_loss: 0.0369 - val_accuracy: 0.9907\n",
      "Epoch 9/30\n",
      "1182/1182 [==============================] - 18s 15ms/step - loss: 0.0209 - accuracy: 0.9944 - val_loss: 0.0371 - val_accuracy: 0.9910\n",
      "Epoch 10/30\n",
      "1182/1182 [==============================] - 18s 15ms/step - loss: 0.0192 - accuracy: 0.9949 - val_loss: 0.0364 - val_accuracy: 0.9907\n",
      "Epoch 11/30\n",
      "1182/1182 [==============================] - 18s 15ms/step - loss: 0.0197 - accuracy: 0.9944 - val_loss: 0.0376 - val_accuracy: 0.9905\n",
      "Epoch 12/30\n",
      "1182/1182 [==============================] - 19s 16ms/step - loss: 0.0185 - accuracy: 0.9951 - val_loss: 0.0369 - val_accuracy: 0.9907\n",
      "Epoch 13/30\n",
      "1182/1182 [==============================] - 18s 15ms/step - loss: 0.0196 - accuracy: 0.9945 - val_loss: 0.0365 - val_accuracy: 0.9907\n",
      "Epoch 14/30\n",
      "1182/1182 [==============================] - 18s 15ms/step - loss: 0.0185 - accuracy: 0.9948 - val_loss: 0.0364 - val_accuracy: 0.9910\n",
      "Epoch 15/30\n",
      "1182/1182 [==============================] - 17s 15ms/step - loss: 0.0205 - accuracy: 0.9946 - val_loss: 0.0364 - val_accuracy: 0.9905\n",
      "Epoch 16/30\n",
      "1182/1182 [==============================] - 17s 15ms/step - loss: 0.0197 - accuracy: 0.9948 - val_loss: 0.0364 - val_accuracy: 0.9907\n",
      "Epoch 17/30\n",
      "1182/1182 [==============================] - 17s 14ms/step - loss: 0.0186 - accuracy: 0.9951 - val_loss: 0.0365 - val_accuracy: 0.9910\n",
      "Epoch 18/30\n",
      "1182/1182 [==============================] - 17s 15ms/step - loss: 0.0179 - accuracy: 0.9951 - val_loss: 0.0363 - val_accuracy: 0.9907\n",
      "Epoch 19/30\n",
      "1182/1182 [==============================] - 18s 15ms/step - loss: 0.0169 - accuracy: 0.9956 - val_loss: 0.0369 - val_accuracy: 0.9905\n",
      "Epoch 20/30\n",
      "1182/1182 [==============================] - 18s 15ms/step - loss: 0.0172 - accuracy: 0.9952 - val_loss: 0.0366 - val_accuracy: 0.9907\n",
      "Epoch 21/30\n",
      "1182/1182 [==============================] - 19s 16ms/step - loss: 0.0176 - accuracy: 0.9954 - val_loss: 0.0363 - val_accuracy: 0.9907\n",
      "Epoch 22/30\n",
      "1182/1182 [==============================] - 18s 15ms/step - loss: 0.0171 - accuracy: 0.9953 - val_loss: 0.0363 - val_accuracy: 0.9907\n",
      "Epoch 23/30\n",
      "1182/1182 [==============================] - 18s 15ms/step - loss: 0.0179 - accuracy: 0.9952 - val_loss: 0.0364 - val_accuracy: 0.9907\n",
      "Epoch 24/30\n",
      "1182/1182 [==============================] - 17s 15ms/step - loss: 0.0169 - accuracy: 0.9955 - val_loss: 0.0357 - val_accuracy: 0.9907\n",
      "Epoch 25/30\n",
      "1182/1182 [==============================] - 18s 15ms/step - loss: 0.0173 - accuracy: 0.9952 - val_loss: 0.0358 - val_accuracy: 0.9907\n",
      "Epoch 26/30\n",
      "1182/1182 [==============================] - 17s 15ms/step - loss: 0.0167 - accuracy: 0.9958 - val_loss: 0.0360 - val_accuracy: 0.9907\n",
      "Epoch 27/30\n",
      "1182/1182 [==============================] - 18s 15ms/step - loss: 0.0182 - accuracy: 0.9951 - val_loss: 0.0365 - val_accuracy: 0.9910\n",
      "Epoch 28/30\n",
      "1182/1182 [==============================] - 17s 15ms/step - loss: 0.0163 - accuracy: 0.9960 - val_loss: 0.0367 - val_accuracy: 0.9905\n",
      "Epoch 29/30\n",
      "1182/1182 [==============================] - 18s 15ms/step - loss: 0.0168 - accuracy: 0.9954 - val_loss: 0.0358 - val_accuracy: 0.9905\n",
      "Epoch 30/30\n",
      "1182/1182 [==============================] - 17s 15ms/step - loss: 0.0157 - accuracy: 0.9960 - val_loss: 0.0361 - val_accuracy: 0.9910\n"
     ]
    },
    {
     "data": {
      "text/plain": [
       "<keras.callbacks.History at 0x7fbc0ccb7d90>"
      ]
     },
     "execution_count": 13,
     "metadata": {},
     "output_type": "execute_result"
    }
   ],
   "source": [
    "# SGD optimizer\n",
    "sgd = SGD(lr=0.0005, momentum=0.5, decay=0.0, nesterov=False) \n",
    "conv_model.compile(optimizer=sgd,loss='categorical_crossentropy',metrics=['accuracy'])\n",
    "conv_model.fit(X_train, y_train, epochs=30, validation_data=(X_cv, y_cv))"
   ]
  },
  {
   "cell_type": "code",
   "execution_count": 14,
   "metadata": {},
   "outputs": [
    {
     "name": "stdout",
     "output_type": "stream",
     "text": [
      "875/875 [==============================] - 5s 6ms/step\n"
     ]
    }
   ],
   "source": [
    "y_pred = conv_model.predict(X_test)\n",
    "y_pred = np.argmax(y_pred,axis=1)\n",
    "my_submission = pd.DataFrame({'ImageId': list(range(1, len(y_pred)+1)), 'Label': y_pred})\n",
    "my_submission.to_csv('submission.csv', index=False)"
   ]
  }
 ],
 "metadata": {
  "kernelspec": {
   "display_name": "Python 3",
   "language": "python",
   "name": "python3"
  },
  "language_info": {
   "codemirror_mode": {
    "name": "ipython",
    "version": 3
   },
   "file_extension": ".py",
   "mimetype": "text/x-python",
   "name": "python",
   "nbconvert_exporter": "python",
   "pygments_lexer": "ipython3",
   "version": "3.10.6"
  },
  "orig_nbformat": 4
 },
 "nbformat": 4,
 "nbformat_minor": 2
}
