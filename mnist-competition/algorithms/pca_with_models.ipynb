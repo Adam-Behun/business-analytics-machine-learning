{
 "cells": [
  {
   "attachments": {},
   "cell_type": "markdown",
   "metadata": {},
   "source": [
    "- This approach uses Principal Component Analysis with 150 components and the following algorithms"
   ]
  },
  {
   "cell_type": "code",
   "execution_count": null,
   "metadata": {},
   "outputs": [],
   "source": [
    "import pandas as pd\n",
    "from sklearn.decomposition import PCA\n",
    "from sklearn.preprocessing import StandardScaler\n",
    "from sklearn.ensemble import RandomForestClassifier\n",
    "from xgboost import XGBClassifier\n",
    "from sklearn.tree import DecisionTreeClassifier\n",
    "from sklearn.model_selection import train_test_split\n",
    "from sklearn.metrics import accuracy_score\n",
    "from sklearn.linear_model import LinearRegression\n",
    "from sklearn.svm import SVC"
   ]
  },
  {
   "cell_type": "code",
   "execution_count": null,
   "metadata": {},
   "outputs": [],
   "source": [
    "train = pd.read_csv(\"../data/train.csv\")\n",
    "test = pd.read_csv(\"../data/test.csv\")\n",
    "\n",
    "X = train.drop(\"label\", axis=1)\n",
    "y = train[\"label\"]"
   ]
  },
  {
   "cell_type": "code",
   "execution_count": null,
   "metadata": {},
   "outputs": [],
   "source": [
    "scaler = StandardScaler()\n",
    "X_scaled = scaler.fit_transform(X)"
   ]
  },
  {
   "cell_type": "code",
   "execution_count": null,
   "metadata": {},
   "outputs": [],
   "source": [
    "pca = PCA(n_components=150)\n",
    "X_pca = pca.fit_transform(X_scaled)\n",
    "pca.explained_variance_ratio_.sum()"
   ]
  },
  {
   "cell_type": "code",
   "execution_count": null,
   "metadata": {},
   "outputs": [],
   "source": [
    "X_train, X_test, y_train, y_test = train_test_split(X_pca, y, test_size=0.2, random_state=42)"
   ]
  },
  {
   "cell_type": "code",
   "execution_count": null,
   "metadata": {},
   "outputs": [],
   "source": [
    "# Random Forest\n",
    "rfc = RandomForestClassifier(n_estimators=100, max_depth=10, random_state=42)\n",
    "rfc.fit(X_train, y_train)\n",
    "y_pred_rfc = rfc.predict(X_test)\n",
    "accuracy_rfc = accuracy_score(y_test, y_pred_rfc)\n",
    "print(\"Random Forest Classifier accuracy:\", accuracy_rfc)\n",
    "\n",
    "test_scaled = scaler.transform(test)\n",
    "X_test_pca = pca.transform(test_scaled)\n",
    "\n",
    "y_pred_test_rfc = rfc.predict(X_test_pca)\n",
    "\n",
    "submission_df_rfc = pd.DataFrame({\n",
    "    \"ImageId\": range(1, len(test)+1),\n",
    "    \"Label\": y_pred_test_rfc\n",
    "})\n",
    "\n",
    "submission_df_rfc.to_csv(\"random_forest_submission.csv\", index=False)"
   ]
  },
  {
   "cell_type": "code",
   "execution_count": null,
   "metadata": {},
   "outputs": [],
   "source": [
    "# XGBoost\n",
    "xgb = XGBClassifier(n_estimators=100, max_depth=10, random_state=42)\n",
    "xgb.fit(X_train, y_train)\n",
    "y_pred_xgb = xgb.predict(X_test)\n",
    "accuracy_xgb = accuracy_score(y_test, y_pred_xgb)\n",
    "print(\"XGBoost Classifier accuracy:\", accuracy_xgb)\n",
    "\n",
    "y_pred_test_xgb = xgb.predict(X_test_pca)\n",
    "\n",
    "submission_df_xgb = pd.DataFrame({\n",
    "    \"ImageId\": range(1, len(test)+1),\n",
    "    \"Label\": y_pred_test_xgb\n",
    "})\n",
    "\n",
    "submission_df_xgb.to_csv(\"xgboost_submission.csv\", index=False)"
   ]
  },
  {
   "cell_type": "code",
   "execution_count": null,
   "metadata": {},
   "outputs": [],
   "source": [
    "# Linear Regression\n",
    "lr = LinearRegression()\n",
    "lr.fit(X_train, y_train)\n",
    "y_pred_lr = lr.predict(X_test)\n",
    "accuracy_lr = accuracy_score(y_test, y_pred_lr.round())\n",
    "print(\"Linear Regression Classifier accuracy:\", accuracy_lr)\n",
    "\n",
    "y_pred_test_lr = lr.predict(X_test_pca)\n",
    "\n",
    "submission_df_lr = pd.DataFrame({\n",
    "    \"ImageId\": range(1, len(test)+1),\n",
    "    \"Label\": y_pred_test_lr.round()\n",
    "})\n",
    "\n",
    "submission_df_lr.to_csv(\"linear_regression_submission.csv\", index=False)"
   ]
  },
  {
   "cell_type": "code",
   "execution_count": null,
   "metadata": {},
   "outputs": [],
   "source": [
    "# Support Vector Machine\n",
    "svm = SVC(kernel='linear', random_state=42)\n",
    "svm.fit(X_train, y_train)\n",
    "y_pred_svm = svm.predict(X_test)\n",
    "accuracy_svm = accuracy_score(y_test, y_pred_svm)\n",
    "print(\"Support Vector Machine Classifier accuracy:\", accuracy_svm)\n",
    "\n",
    "y_pred_test_svm = svm.predict(X_test_pca)\n",
    "\n",
    "submission_df_svm = pd.DataFrame({\n",
    "    \"ImageId\": range(1, len(test)+1),\n",
    "    \"Label\": y_pred_test_svm\n",
    "})\n",
    "\n",
    "submission_df_svm.to_csv(\"support_vector_machine_submission.csv\", index=False)"
   ]
  }
 ],
 "metadata": {
  "kernelspec": {
   "display_name": "Python 3",
   "language": "python",
   "name": "python3"
  },
  "language_info": {
   "codemirror_mode": {
    "name": "ipython",
    "version": 3
   },
   "file_extension": ".py",
   "mimetype": "text/x-python",
   "name": "python",
   "nbconvert_exporter": "python",
   "pygments_lexer": "ipython3",
   "version": "3.10.6"
  },
  "orig_nbformat": 4
 },
 "nbformat": 4,
 "nbformat_minor": 2
}
